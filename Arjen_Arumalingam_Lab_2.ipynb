{
  "nbformat": 4,
  "nbformat_minor": 0,
  "metadata": {
    "colab": {
      "provenance": [],
      "authorship_tag": "ABX9TyN+5tWuXeLggJLLVdNc265U",
      "include_colab_link": true
    },
    "kernelspec": {
      "name": "python3",
      "display_name": "Python 3"
    },
    "language_info": {
      "name": "python"
    }
  },
  "cells": [
    {
      "cell_type": "markdown",
      "metadata": {
        "id": "view-in-github",
        "colab_type": "text"
      },
      "source": [
        "<a href=\"https://colab.research.google.com/github/aaruma/Intelligent-Systems/blob/main/Arjen_Arumalingam_Lab_2.ipynb\" target=\"_parent\"><img src=\"https://colab.research.google.com/assets/colab-badge.svg\" alt=\"Open In Colab\"/></a>"
      ]
    },
    {
      "cell_type": "markdown",
      "source": [
        "# **Lab 2: Gradient Descent For Logistic Regression**"
      ],
      "metadata": {
        "id": "i4jKjo3mrcwJ"
      }
    },
    {
      "cell_type": "code",
      "execution_count": 19,
      "metadata": {
        "colab": {
          "base_uri": "https://localhost:8080/"
        },
        "id": "iIbtNZ7WNnVI",
        "outputId": "5bb54e35-d2d5-49fe-dc3c-551cc85655fe"
      },
      "outputs": [
        {
          "output_type": "stream",
          "name": "stdout",
          "text": [
            "     row.names  sbp  tobacco    ldl  adiposity  famhist  typea  obesity  \\\n",
            "0            1  160    12.00   5.73      23.11  Present     49    25.30   \n",
            "1            2  144     0.01   4.41      28.61   Absent     55    28.87   \n",
            "2            3  118     0.08   3.48      32.28  Present     52    29.14   \n",
            "3            4  170     7.50   6.41      38.03  Present     51    31.99   \n",
            "4            5  134    13.60   3.50      27.78  Present     60    25.99   \n",
            "..         ...  ...      ...    ...        ...      ...    ...      ...   \n",
            "457        459  214     0.40   5.98      31.72   Absent     64    28.45   \n",
            "458        460  182     4.20   4.41      32.10   Absent     52    28.61   \n",
            "459        461  108     3.00   1.59      15.23   Absent     40    20.09   \n",
            "460        462  118     5.40  11.61      30.79   Absent     64    27.35   \n",
            "461        463  132     0.00   4.82      33.41  Present     62    14.70   \n",
            "\n",
            "     alcohol  age  chd  \n",
            "0      97.20   52    1  \n",
            "1       2.06   63    1  \n",
            "2       3.81   46    0  \n",
            "3      24.26   58    1  \n",
            "4      57.34   49    1  \n",
            "..       ...  ...  ...  \n",
            "457     0.00   58    0  \n",
            "458    18.72   52    1  \n",
            "459    26.64   55    0  \n",
            "460    23.97   40    0  \n",
            "461     0.00   46    1  \n",
            "\n",
            "[462 rows x 11 columns]\n"
          ]
        }
      ],
      "source": [
        "import matplotlib\n",
        "import numpy as np\n",
        "import pandas as pd\n",
        "import matplotlib.pyplot as plt\n",
        "%matplotlib inline\n",
        "from sklearn.linear_model import LogisticRegression\n",
        "\n",
        "# Dataset provided from D2L Lab 1\n",
        "data = pd.read_csv(\"https://raw.githubusercontent.com/tofighi/MachineLearning/master/datasets/heart.csv\")\n",
        "print(data)"
      ]
    },
    {
      "cell_type": "code",
      "source": [
        "count_class = data['chd'].value_counts()\n",
        "percentage_class = count_class / data.shape[0] * 100\n",
        "print(\"Percentage of class 0:\", percentage_class[0])\n",
        "print(\"Percentage of class 1:\", percentage_class[1])"
      ],
      "metadata": {
        "colab": {
          "base_uri": "https://localhost:8080/"
        },
        "id": "qSO38-IsPAJ1",
        "outputId": "12d66046-a25b-498a-d3ad-81520b563a38"
      },
      "execution_count": 20,
      "outputs": [
        {
          "output_type": "stream",
          "name": "stdout",
          "text": [
            "Percentage of class 0: 65.36796536796537\n",
            "Percentage of class 1: 34.63203463203463\n"
          ]
        }
      ]
    },
    {
      "cell_type": "code",
      "source": [
        "missing_val = data.isnull().sum().sum()\n",
        "print(\"Number of missing values: \", missing_val)"
      ],
      "metadata": {
        "colab": {
          "base_uri": "https://localhost:8080/"
        },
        "id": "08CWd4SumkJH",
        "outputId": "0647b1dd-1472-4ff1-8e44-cc2dfd03bc22"
      },
      "execution_count": 21,
      "outputs": [
        {
          "output_type": "stream",
          "name": "stdout",
          "text": [
            "Number of missing values:  0\n"
          ]
        }
      ]
    },
    {
      "cell_type": "code",
      "source": [
        "category_columns = data.select_dtypes(include='object').columns\n",
        "print(category_columns)\n",
        "category_num = len(category_columns)\n",
        "print(\"Number of categorical variables: \", category_num)"
      ],
      "metadata": {
        "colab": {
          "base_uri": "https://localhost:8080/"
        },
        "id": "NzvRFTdRnGko",
        "outputId": "6f019200-518f-4057-c3f3-c137b96e1105"
      },
      "execution_count": 22,
      "outputs": [
        {
          "output_type": "stream",
          "name": "stdout",
          "text": [
            "Index(['famhist'], dtype='object')\n",
            "Number of categorical variables:  1\n"
          ]
        }
      ]
    },
    {
      "cell_type": "code",
      "source": [
        "correlation_matrix = data.corr()\n",
        "correlation_max = correlation_matrix.abs().max().max()\n",
        "print(\"Maximum Correlation: \", correlation_max)"
      ],
      "metadata": {
        "colab": {
          "base_uri": "https://localhost:8080/"
        },
        "id": "2vTU94yBqKS-",
        "outputId": "0ad7efd2-01d6-4f48-bcbf-7979aeb1f412"
      },
      "execution_count": 23,
      "outputs": [
        {
          "output_type": "stream",
          "name": "stdout",
          "text": [
            "Maximum Correlation:  1.0\n"
          ]
        },
        {
          "output_type": "stream",
          "name": "stderr",
          "text": [
            "<ipython-input-23-44d4f0677480>:1: FutureWarning: The default value of numeric_only in DataFrame.corr is deprecated. In a future version, it will default to False. Select only valid columns or specify the value of numeric_only to silence this warning.\n",
            "  correlation_matrix = data.corr()\n"
          ]
        }
      ]
    },
    {
      "cell_type": "code",
      "source": [
        "# One-Hot Encoding\n",
        "encode_data = pd.get_dummies(data, columns = category_columns)\n",
        "\n",
        "# Standardization\n",
        "non_normalized_columns = data.columns.difference(category_columns)\n",
        "normalized_data = encode_data.copy()\n",
        "\n",
        "standardized_non_normalized = encode_data[non_normalized_columns].std()\n",
        "mean_non_normalized = encode_data[non_normalized_columns].mean()\n",
        "\n",
        "normalized_data[non_normalized_columns] = (encode_data[non_normalized_columns] - mean_non_normalized) / standardized_non_normalized\n",
        "\n",
        "print(normalized_data)"
      ],
      "metadata": {
        "colab": {
          "base_uri": "https://localhost:8080/"
        },
        "id": "EBk5ayZFs8MW",
        "outputId": "f3d03c00-2e59-4206-da1e-e6cbdaa63094"
      },
      "execution_count": 28,
      "outputs": [
        {
          "output_type": "stream",
          "name": "stdout",
          "text": [
            "     row.names       sbp   tobacco       ldl  adiposity     typea   obesity  \\\n",
            "0    -1.724186  1.057417  1.821099  0.477894  -0.295183 -0.418017 -0.176594   \n",
            "1    -1.716720  0.276789 -0.789382 -0.159507   0.411694  0.193134  0.670646   \n",
            "2    -1.709254 -0.991731 -0.774141 -0.608585   0.883374 -0.112441  0.734723   \n",
            "3    -1.701788  1.545310  0.841352  0.806252   1.622382 -0.214300  1.411091   \n",
            "4    -1.694322 -0.211103  2.169453 -0.598928   0.305020  0.702427 -0.012842   \n",
            "..         ...       ...       ...       ...        ...       ...       ...   \n",
            "457   1.695291  3.692037 -0.704470  0.598614   0.811401  1.109862  0.570971   \n",
            "458   1.702758  2.130781  0.122871 -0.159507   0.860240 -0.112441  0.608942   \n",
            "459   1.710224 -1.479624 -0.138395 -1.521228  -1.307946 -1.334744 -1.413043   \n",
            "460   1.717690 -0.991731  0.384137  3.317227   0.691875  1.109862  0.309916   \n",
            "461   1.725156 -0.308682 -0.791559  0.038474   1.028605  0.906144 -2.692210   \n",
            "\n",
            "      alcohol       age       chd  famhist_Absent  famhist_Present  \n",
            "0    3.274189  0.628654  1.372375               0                1  \n",
            "1   -0.612081  1.381617  1.372375               1                0  \n",
            "2   -0.540597  0.217947 -0.727086               0                1  \n",
            "3    0.294742  1.039361  1.372375               0                1  \n",
            "4    1.645991  0.423301  1.372375               0                1  \n",
            "..        ...       ...       ...             ...              ...  \n",
            "457 -0.696228  1.039361 -0.727086               1                0  \n",
            "458  0.068445  0.628654  1.372375               1                0  \n",
            "459  0.391960  0.834008 -0.727086               1                0  \n",
            "460  0.282897 -0.192760 -0.727086               1                0  \n",
            "461 -0.696228  0.217947  1.372375               0                1  \n",
            "\n",
            "[462 rows x 12 columns]\n"
          ]
        }
      ]
    },
    {
      "cell_type": "code",
      "source": [
        "# Hypothesis (Model)\n",
        "def sigmoid(x):\n",
        "    return 1 / (1 + np.exp(-x))\n",
        "\n",
        "# Cost Function\n",
        "def entropy_loss(y, y_hat)\n",
        "    loss = -y * np.log(y_hat) - (1-y) * np.log(1-y_hat)\n",
        "    return loss.mean()\n",
        "\n",
        "def updating_weights(x, y, theta, alpha):\n",
        "    m = x.shape[0]\n",
        "    b = np.column_stack((np.ones(m, 1)), x)\n",
        "    y_hat = sigmoid(np.dot(b, theta))\n",
        "    gradient = np.dot(b.T, y_hat - y)/m\n",
        "    theta = theta - alpha * gradient\n",
        "    return theta"
      ],
      "metadata": {
        "colab": {
          "base_uri": "https://localhost:8080/",
          "height": 141
        },
        "id": "l2xnxw1BxbUg",
        "outputId": "92bed781-3c53-4681-a9a6-73260934f0e5"
      },
      "execution_count": 29,
      "outputs": [
        {
          "output_type": "error",
          "ename": "SyntaxError",
          "evalue": "expected ':' (<ipython-input-29-c8d568812df9>, line 6)",
          "traceback": [
            "\u001b[0;36m  File \u001b[0;32m\"<ipython-input-29-c8d568812df9>\"\u001b[0;36m, line \u001b[0;32m6\u001b[0m\n\u001b[0;31m    def entropy_loss(y, y_hat)\u001b[0m\n\u001b[0m                              ^\u001b[0m\n\u001b[0;31mSyntaxError\u001b[0m\u001b[0;31m:\u001b[0m expected ':'\n"
          ]
        }
      ]
    }
  ]
}